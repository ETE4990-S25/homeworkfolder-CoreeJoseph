{
 "cells": [
  {
   "cell_type": "markdown",
   "id": "21c6150b-c2f3-4659-9561-af7f65d461b1",
   "metadata": {},
   "source": [
    "# Homework #2\n",
    "\n",
    "## Create a Farm\n",
    "\n",
    "Old McDonald is dyslexic OIEIE...\n",
    "Please help on his farm, please... \n",
    "\n",
    "Your goal is to categorize all of his animals into groups.\n",
    "example:\n",
    "- pigs are useful for there meat, skin and help improve the soil and biodiversity\n",
    "\n",
    "Create classes for all of his different types of animals \n",
    "You should have at least 5 animals on the farm ie. cows, pigs, dogs, goats \n",
    "\n",
    "VERY Poorly written example \n",
    "\n",
    "```python\n",
    "class Animals (self):\n",
    "    self.name = name\n",
    "    self.age = age\n",
    "\n",
    "class Pets(Animals):\n",
    "    self.friend = True\n",
    "    self.eat = False\n",
    "\n",
    "class Farm (Animals):\n",
    "    self.eat = True #will it be sold for food\n",
    "    self.leather = True #will it be sold for leather\n",
    "    self.helper = False #will it be used to say plow a field\n",
    "    self.soil = True #Will it be used to help the soil\n",
    "\n",
    "class Dog(Pets)\n",
    "    self.good_boy = True\n",
    "    self.type = \"type of dog\"\n",
    "listOfAnimals = [Dog()]\n",
    "```\n",
    "\n",
    "\n",
    "Your program should have an input and output allowing the user to add and remove animals. \n",
    "\n",
    "Love you !"
   ]
  },
  {
   "cell_type": "code",
   "execution_count": 57,
   "id": "bee751a0",
   "metadata": {},
   "outputs": [],
   "source": [
    "class Animal:\n",
    "    def __init__(self, name, category, benefits):\n",
    "        self.name = name\n",
    "        self.category = category\n",
    "        self.benefits = benefits\n",
    "    def show_info(self):\n",
    "        print(f\"Animal: {self.name}\")\n",
    "        print(f\"Category: {self.category}\")\n",
    "        print(\"Benefits: \")\n",
    "        for benefit in self.benefits:\n",
    "            print(f\"- {benefit}\")"
   ]
  },
  {
   "cell_type": "code",
   "execution_count": 58,
   "id": "07a82ffe",
   "metadata": {},
   "outputs": [],
   "source": [
    "class Goat(Animal):\n",
    "    def __init__(self):\n",
    "        super().__init__(\"Goat\", \"milk\", [\"meat\", \"landscaping\"])\n",
    "goat = Goat()"
   ]
  },
  {
   "cell_type": "code",
   "execution_count": 59,
   "id": "cf5b8b95",
   "metadata": {},
   "outputs": [],
   "source": [
    "class Cow(Animal):\n",
    "    def __init__(self):\n",
    "        super().__init__(\"Cow\", \"milk\", [\"Beef\", \"Leather\"])\n",
    "cow = Cow()"
   ]
  },
  {
   "cell_type": "code",
   "execution_count": 60,
   "id": "88beed25",
   "metadata": {},
   "outputs": [],
   "source": [
    "class Chicken(Animal):\n",
    "    def __init__(self):\n",
    "        super().__init__(\"Chicken\", \"Meat\", [\"chicken\", \"eggs\"])\n",
    "chicken = Chicken()"
   ]
  },
  {
   "cell_type": "code",
   "execution_count": 65,
   "id": "93983a97",
   "metadata": {},
   "outputs": [],
   "source": [
    "class Sheep(Animal):\n",
    "    def __init__(self):\n",
    "        super().__init__(\"Sheep\", \"Wool\", [\"meat\", \"milk\"])\n",
    "sheep = Sheep()"
   ]
  },
  {
   "cell_type": "code",
   "execution_count": 62,
   "id": "93608384",
   "metadata": {},
   "outputs": [],
   "source": [
    "class Pig(Animal):\n",
    "    def __init__(self):\n",
    "        super().__init__(\"Pig\", \"meat\", [\"pork\", \"manure\"])\n",
    "pig = Pig()"
   ]
  },
  {
   "cell_type": "code",
   "execution_count": 63,
   "id": "0d2ad96f",
   "metadata": {},
   "outputs": [],
   "source": [
    "farm_animals = [goat, cow, chicken, pig, sheep]"
   ]
  },
  {
   "cell_type": "code",
   "execution_count": 67,
   "id": "f3990527",
   "metadata": {},
   "outputs": [
    {
     "name": "stdout",
     "output_type": "stream",
     "text": [
      "Animal: Goat\n",
      "Category: milk\n",
      "Benefits: \n",
      "- meat\n",
      "- landscaping\n",
      "\n",
      "Animal: Cow\n",
      "Category: milk\n",
      "Benefits: \n",
      "- Beef\n",
      "- Leather\n",
      "\n",
      "Animal: Chicken\n",
      "Category: Meat\n",
      "Benefits: \n",
      "- chicken\n",
      "- eggs\n",
      "\n",
      "Animal: Pig\n",
      "Category: meat\n",
      "Benefits: \n",
      "- pork\n",
      "- manure\n",
      "\n",
      "Animal: Sheep\n",
      "Category: Milk\n",
      "Benefits: \n",
      "- wool\n",
      "- milk\n",
      "\n"
     ]
    }
   ],
   "source": [
    "for animal in farm_animals:\n",
    "    animal.show_info()\n",
    "    print()"
   ]
  }
 ],
 "metadata": {
  "kernelspec": {
   "display_name": "base",
   "language": "python",
   "name": "python3"
  },
  "language_info": {
   "codemirror_mode": {
    "name": "ipython",
    "version": 3
   },
   "file_extension": ".py",
   "mimetype": "text/x-python",
   "name": "python",
   "nbconvert_exporter": "python",
   "pygments_lexer": "ipython3",
   "version": "3.12.7"
  }
 },
 "nbformat": 4,
 "nbformat_minor": 5
}
