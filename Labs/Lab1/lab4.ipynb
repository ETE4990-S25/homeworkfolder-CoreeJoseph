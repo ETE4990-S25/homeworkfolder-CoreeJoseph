{
 "cells": [
  {
   "cell_type": "code",
   "execution_count": 7,
   "metadata": {},
   "outputs": [],
   "source": [
    "import json"
   ]
  },
  {
   "cell_type": "code",
   "execution_count": 8,
   "metadata": {},
   "outputs": [],
   "source": [
    "def load_dataset(filename):\n",
    "    with open(filename, 'r') as file:\n",
    "        data = json.load(file)\n",
    "    return data"
   ]
  },
  {
   "cell_type": "code",
   "execution_count": 9,
   "metadata": {},
   "outputs": [],
   "source": [
    "def pick_movie(data, min_rating, max_year):\n",
    "    filtered_movies = [movie for movie in data if movie['critic_score'] >= min_rating and movie['movieYear'] <= max_year]\n",
    "    if not filtered_movies:\n",
    "        return \"No movies found with given preferences.\"\n",
    "    return filtered_movies[0]"
   ]
  },
  {
   "cell_type": "code",
   "execution_count": 10,
   "metadata": {},
   "outputs": [],
   "source": [
    "def main():\n",
    "    filename = 'movies.json'\n",
    "    data = load_dataset(filename)\n",
    "    min_rating = float(input(\"Enter minimum rating from 0 to 10: \"))\n",
    "    max_year = int(input(\"Enter the latest release year: \"))\n",
    "\n",
    "    selected_movie = pick_movie(data, min_rating, max_year)\n",
    "\n",
    "    if isinstance(selected_movie, str):\n",
    "        print(selected_movie)\n",
    "    else:\n",
    "        print(f\"Selected Movie: {selected_movie['movieTitle']}\")\n",
    "        print(f\"Year: {selected_movie['movieYear']}\")\n",
    "        print(f\"Critic Score: {selected_movie['critic_score']}\")\n",
    "        print(f\"Audience Score: {selected_movie['audience_score']}\")\n"
   ]
  },
  {
   "cell_type": "code",
   "execution_count": 12,
   "metadata": {},
   "outputs": [
    {
     "name": "stdout",
     "output_type": "stream",
     "text": [
      "No movies found with given preferences.\n"
     ]
    }
   ],
   "source": [
    "if __name__ == \"__main__\":\n",
    "    main()"
   ]
  }
 ],
 "metadata": {
  "kernelspec": {
   "display_name": "base",
   "language": "python",
   "name": "python3"
  },
  "language_info": {
   "codemirror_mode": {
    "name": "ipython",
    "version": 3
   },
   "file_extension": ".py",
   "mimetype": "text/x-python",
   "name": "python",
   "nbconvert_exporter": "python",
   "pygments_lexer": "ipython3",
   "version": "3.12.7"
  }
 },
 "nbformat": 4,
 "nbformat_minor": 2
}
