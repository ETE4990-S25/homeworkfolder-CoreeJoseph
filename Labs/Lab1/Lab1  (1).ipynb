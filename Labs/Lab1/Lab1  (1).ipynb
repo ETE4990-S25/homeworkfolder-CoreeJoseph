{
 "cells": [
  {
   "cell_type": "code",
   "execution_count": 169,
   "id": "5eae7adf-9cf7-4704-a19b-27c249698a61",
   "metadata": {},
   "outputs": [
    {
     "name": "stdout",
     "output_type": "stream",
     "text": [
      "Best of 5! Good luck!\n"
     ]
    },
    {
     "name": "stdin",
     "output_type": "stream",
     "text": [
      "press enter to roll the dice: \n"
     ]
    },
    {
     "name": "stdout",
     "output_type": "stream",
     "text": [
      "You rolled: 4\n",
      "CPUs rolled: 3\n",
      "You Win!\n",
      "Player Score: 1 CPU Score: 0\n",
      "Best of 5! Good luck!\n"
     ]
    },
    {
     "name": "stdin",
     "output_type": "stream",
     "text": [
      "press enter to roll the dice: \n"
     ]
    },
    {
     "name": "stdout",
     "output_type": "stream",
     "text": [
      "You rolled: 6\n",
      "CPUs rolled: 6\n",
      "Tie!\n",
      "Player Score: 1 CPU Score: 0\n",
      "Best of 5! Good luck!\n"
     ]
    },
    {
     "name": "stdin",
     "output_type": "stream",
     "text": [
      "press enter to roll the dice: \n"
     ]
    },
    {
     "name": "stdout",
     "output_type": "stream",
     "text": [
      "You rolled: 5\n",
      "CPUs rolled: 2\n",
      "You Win!\n",
      "Player Score: 2 CPU Score: 0\n",
      "Best of 5! Good luck!\n"
     ]
    },
    {
     "name": "stdin",
     "output_type": "stream",
     "text": [
      "press enter to roll the dice: \n"
     ]
    },
    {
     "name": "stdout",
     "output_type": "stream",
     "text": [
      "You rolled: 1\n",
      "CPUs rolled: 5\n",
      "You Lose!\n",
      "Player Score: 2 CPU Score: 1\n",
      "Best of 5! Good luck!\n"
     ]
    },
    {
     "name": "stdin",
     "output_type": "stream",
     "text": [
      "press enter to roll the dice: \n"
     ]
    },
    {
     "name": "stdout",
     "output_type": "stream",
     "text": [
      "You rolled: 6\n",
      "CPUs rolled: 3\n",
      "You Win!\n",
      "Player Score: 3 CPU Score: 1\n"
     ]
    }
   ],
   "source": [
    "import random\n",
    "\n",
    "def roll_die():\n",
    "    random.randint(1, 6)\n",
    "def main():\n",
    "\n",
    "    global player_score\n",
    "    global CPU_score\n",
    "\n",
    "    for _ in range(5): #used ai to help create a loop\n",
    "\n",
    "        print(\"Best of 5! Good luck!\")\n",
    "        input(\"press enter to roll the dice:\")\n",
    "    \n",
    "        dice1 = random.randint(1, 6)\n",
    "        print (\"You rolled:\", dice1)\n",
    "    \n",
    "        dice2 = random.randint(1, 6)\n",
    "        print (\"CPUs rolled:\", dice2)\n",
    "\n",
    "        if dice1 > dice2:\n",
    "            print(\"You Win!\")\n",
    "        #player_score = 1\n",
    "        #CPU_score = 0\n",
    "            player_score+=1\n",
    "        elif dice1 < dice2:\n",
    "            print(\"You Lose!\")\n",
    "        #CPU_score = 1 \n",
    "        #player_score = 0\n",
    "            CPU_score+=1\n",
    "        else:\n",
    "            print(\"Tie!\")\n",
    "        #CPU_score = 0\n",
    "        #player_score = 0\n",
    "        print(\"Player Score:\", player_score, \"CPU Score:\", CPU_score)\n",
    "\n",
    "    player_score = 0\n",
    "    CPU_score = 0\n",
    "\n",
    "main()"
   ]
  },
  {
   "cell_type": "code",
   "execution_count": null,
   "id": "90382137-f1bb-4e08-9626-e8587c2ae00f",
   "metadata": {},
   "outputs": [],
   "source": []
  },
  {
   "cell_type": "code",
   "execution_count": null,
   "id": "748decbb-46fa-4093-b740-c400d99d06cc",
   "metadata": {},
   "outputs": [],
   "source": []
  }
 ],
 "metadata": {
  "kernelspec": {
   "display_name": "Python [conda env:base] *",
   "language": "python",
   "name": "conda-base-py"
  },
  "language_info": {
   "codemirror_mode": {
    "name": "ipython",
    "version": 3
   },
   "file_extension": ".py",
   "mimetype": "text/x-python",
   "name": "python",
   "nbconvert_exporter": "python",
   "pygments_lexer": "ipython3",
   "version": "3.12.7"
  }
 },
 "nbformat": 4,
 "nbformat_minor": 5
}
